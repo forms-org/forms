{
 "cells": [
  {
   "cell_type": "code",
   "execution_count": 2,
   "metadata": {},
   "outputs": [],
   "source": [
    "import pandas as pd\n",
    "import numpy as np\n",
    "df = pd.DataFrame(np.random.randint(0, 100, size=(2000000,10)))"
   ]
  },
  {
   "cell_type": "code",
   "execution_count": 17,
   "metadata": {},
   "outputs": [],
   "source": [
    "def func(df):\n",
    "    return df.sum(axis = 1).rolling(10).agg(\"sum\")"
   ]
  },
  {
   "cell_type": "code",
   "execution_count": 18,
   "metadata": {},
   "outputs": [
    {
     "name": "stdout",
     "output_type": "stream",
     "text": [
      "CPU times: user 82.5 ms, sys: 7.3 ms, total: 89.8 ms\n",
      "Wall time: 88.6 ms\n"
     ]
    },
    {
     "data": {
      "text/plain": [
       "0             NaN\n",
       "1             NaN\n",
       "2             NaN\n",
       "3             NaN\n",
       "4             NaN\n",
       "            ...  \n",
       "1999995    4614.0\n",
       "1999996    4737.0\n",
       "1999997    4655.0\n",
       "1999998    4538.0\n",
       "1999999    4617.0\n",
       "Length: 2000000, dtype: float64"
      ]
     },
     "execution_count": 18,
     "metadata": {},
     "output_type": "execute_result"
    }
   ],
   "source": [
    "%time func(df)"
   ]
  },
  {
   "cell_type": "code",
   "execution_count": 19,
   "metadata": {},
   "outputs": [],
   "source": [
    "from concurrent.futures import ProcessPoolExecutor\n",
    "result = []"
   ]
  },
  {
   "cell_type": "code",
   "execution_count": 14,
   "metadata": {},
   "outputs": [],
   "source": [
    "from time import sleep\n",
    "def test(cores):\n",
    "    executor = ProcessPoolExecutor(max_workers=cores)\n",
    "    futures = [executor.submit(func, df) for i in range(cores)]\n",
    "    while not all([future.done() for future in futures]):\n",
    "        sleep(0.01)"
   ]
  },
  {
   "cell_type": "code",
   "execution_count": 15,
   "metadata": {},
   "outputs": [
    {
     "name": "stdout",
     "output_type": "stream",
     "text": [
      "CPU times: user 84 ms, sys: 137 ms, total: 221 ms\n",
      "Wall time: 479 ms\n"
     ]
    }
   ],
   "source": [
    "%time test(1)"
   ]
  },
  {
   "cell_type": "code",
   "execution_count": 12,
   "metadata": {},
   "outputs": [
    {
     "data": {
      "text/plain": [
       "[0             NaN\n",
       " 1             NaN\n",
       " 2             NaN\n",
       " 3             NaN\n",
       " 4             NaN\n",
       "             ...  \n",
       " 1999995    4931.0\n",
       " 1999996    5026.0\n",
       " 1999997    5303.0\n",
       " 1999998    5362.0\n",
       " 1999999    5314.0\n",
       " Length: 2000000, dtype: float64,\n",
       " 0             NaN\n",
       " 1             NaN\n",
       " 2             NaN\n",
       " 3             NaN\n",
       " 4             NaN\n",
       "             ...  \n",
       " 1999995    4931.0\n",
       " 1999996    5026.0\n",
       " 1999997    5303.0\n",
       " 1999998    5362.0\n",
       " 1999999    5314.0\n",
       " Length: 2000000, dtype: float64,\n",
       " 0             NaN\n",
       " 1             NaN\n",
       " 2             NaN\n",
       " 3             NaN\n",
       " 4             NaN\n",
       "             ...  \n",
       " 1999995    4931.0\n",
       " 1999996    5026.0\n",
       " 1999997    5303.0\n",
       " 1999998    5362.0\n",
       " 1999999    5314.0\n",
       " Length: 2000000, dtype: float64,\n",
       " 0             NaN\n",
       " 1             NaN\n",
       " 2             NaN\n",
       " 3             NaN\n",
       " 4             NaN\n",
       "             ...  \n",
       " 1999995    4931.0\n",
       " 1999996    5026.0\n",
       " 1999997    5303.0\n",
       " 1999998    5362.0\n",
       " 1999999    5314.0\n",
       " Length: 2000000, dtype: float64]"
      ]
     },
     "execution_count": 12,
     "metadata": {},
     "output_type": "execute_result"
    }
   ],
   "source": [
    "result"
   ]
  },
  {
   "cell_type": "markdown",
   "metadata": {},
   "source": [
    "## Test forms"
   ]
  },
  {
   "cell_type": "code",
   "execution_count": 13,
   "metadata": {},
   "outputs": [],
   "source": [
    "df = pd.DataFrame(np.random.randint(0, 100, size=(1000000,10)))"
   ]
  },
  {
   "cell_type": "code",
   "execution_count": null,
   "metadata": {},
   "outputs": [],
   "source": [
    "import forms\n",
    "formula = '=SUM(A1:B2)'\n",
    "forms.forms_config.core = 4\n",
    "%time forms.compute_formula(df, formula)"
   ]
  },
  {
   "cell_type": "markdown",
   "metadata": {},
   "source": [
    "## Test Dask"
   ]
  },
  {
   "cell_type": "code",
   "execution_count": 3,
   "metadata": {},
   "outputs": [],
   "source": [
    "df = pd.DataFrame(np.random.randint(0, 100, size=(1000000,10)))"
   ]
  },
  {
   "cell_type": "code",
   "execution_count": 4,
   "metadata": {},
   "outputs": [
    {
     "ename": "ModuleNotFoundError",
     "evalue": "No module named 'dask'",
     "output_type": "error",
     "traceback": [
      "\u001b[0;31m---------------------------------------------------------------------------\u001b[0m",
      "\u001b[0;31mModuleNotFoundError\u001b[0m                       Traceback (most recent call last)",
      "\u001b[0;32m<ipython-input-4-27c2e10d9b9f>\u001b[0m in \u001b[0;36m<module>\u001b[0;34m\u001b[0m\n\u001b[0;32m----> 1\u001b[0;31m \u001b[0;32mfrom\u001b[0m \u001b[0mdask\u001b[0m\u001b[0;34m.\u001b[0m\u001b[0mdistributed\u001b[0m \u001b[0;32mimport\u001b[0m \u001b[0mClient\u001b[0m\u001b[0;34m\u001b[0m\u001b[0;34m\u001b[0m\u001b[0m\n\u001b[0m\u001b[1;32m      2\u001b[0m \u001b[0mclient\u001b[0m \u001b[0;34m=\u001b[0m \u001b[0mClient\u001b[0m\u001b[0;34m(\u001b[0m\u001b[0;34m)\u001b[0m\u001b[0;34m\u001b[0m\u001b[0;34m\u001b[0m\u001b[0m\n",
      "\u001b[0;31mModuleNotFoundError\u001b[0m: No module named 'dask'"
     ]
    }
   ],
   "source": [
    "from dask.distributed import Client\n",
    "client = Client()"
   ]
  },
  {
   "cell_type": "code",
   "execution_count": null,
   "metadata": {},
   "outputs": [],
   "source": []
  }
 ],
 "metadata": {
  "kernelspec": {
   "display_name": "Python 3",
   "language": "python",
   "name": "python3"
  },
  "language_info": {
   "codemirror_mode": {
    "name": "ipython",
    "version": 3
   },
   "file_extension": ".py",
   "mimetype": "text/x-python",
   "name": "python",
   "nbconvert_exporter": "python",
   "pygments_lexer": "ipython3",
   "version": "3.8.5"
  }
 },
 "nbformat": 4,
 "nbformat_minor": 5
}
