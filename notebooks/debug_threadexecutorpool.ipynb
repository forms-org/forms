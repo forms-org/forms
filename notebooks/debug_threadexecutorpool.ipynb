{
 "cells": [
  {
   "cell_type": "code",
   "execution_count": 2,
   "id": "7eb1684e",
   "metadata": {},
   "outputs": [],
   "source": [
    "import pandas as pd\n",
    "import numpy as np\n",
    "df = pd.DataFrame(np.random.randint(0, 100, size=(2000000,10)))"
   ]
  },
  {
   "cell_type": "code",
   "execution_count": 17,
   "id": "02b22df5",
   "metadata": {},
   "outputs": [],
   "source": [
    "def func(df):\n",
    "    return df.sum(axis = 1).rolling(10).agg(\"sum\")"
   ]
  },
  {
   "cell_type": "code",
   "execution_count": 18,
   "id": "a33b8b42",
   "metadata": {},
   "outputs": [
    {
     "name": "stdout",
     "output_type": "stream",
     "text": [
      "CPU times: user 82.5 ms, sys: 7.3 ms, total: 89.8 ms\n",
      "Wall time: 88.6 ms\n"
     ]
    },
    {
     "data": {
      "text/plain": [
       "0             NaN\n",
       "1             NaN\n",
       "2             NaN\n",
       "3             NaN\n",
       "4             NaN\n",
       "            ...  \n",
       "1999995    4614.0\n",
       "1999996    4737.0\n",
       "1999997    4655.0\n",
       "1999998    4538.0\n",
       "1999999    4617.0\n",
       "Length: 2000000, dtype: float64"
      ]
     },
     "execution_count": 18,
     "metadata": {},
     "output_type": "execute_result"
    }
   ],
   "source": [
    "%time func(df)"
   ]
  },
  {
   "cell_type": "code",
   "execution_count": 19,
   "id": "f72d1ae2",
   "metadata": {},
   "outputs": [],
   "source": [
    "from concurrent.futures import ProcessPoolExecutor\n",
    "result = []"
   ]
  },
  {
   "cell_type": "code",
   "execution_count": 14,
   "id": "76e08ef5",
   "metadata": {},
   "outputs": [],
   "source": [
    "from time import sleep\n",
    "def test(cores):\n",
    "    executor = ProcessPoolExecutor(max_workers=cores)\n",
    "    futures = [executor.submit(func, df) for i in range(cores)]\n",
    "    while not all([future.done() for future in futures]):\n",
    "        sleep(0.01)"
   ]
  },
  {
   "cell_type": "code",
   "execution_count": 15,
   "id": "c2316cb9",
   "metadata": {},
   "outputs": [
    {
     "name": "stdout",
     "output_type": "stream",
     "text": [
      "CPU times: user 84 ms, sys: 137 ms, total: 221 ms\n",
      "Wall time: 479 ms\n"
     ]
    }
   ],
   "source": [
    "%time test(1)"
   ]
  },
  {
   "cell_type": "code",
   "execution_count": 12,
   "id": "b0c5e526",
   "metadata": {},
   "outputs": [
    {
     "data": {
      "text/plain": [
       "[0             NaN\n",
       " 1             NaN\n",
       " 2             NaN\n",
       " 3             NaN\n",
       " 4             NaN\n",
       "             ...  \n",
       " 1999995    4931.0\n",
       " 1999996    5026.0\n",
       " 1999997    5303.0\n",
       " 1999998    5362.0\n",
       " 1999999    5314.0\n",
       " Length: 2000000, dtype: float64,\n",
       " 0             NaN\n",
       " 1             NaN\n",
       " 2             NaN\n",
       " 3             NaN\n",
       " 4             NaN\n",
       "             ...  \n",
       " 1999995    4931.0\n",
       " 1999996    5026.0\n",
       " 1999997    5303.0\n",
       " 1999998    5362.0\n",
       " 1999999    5314.0\n",
       " Length: 2000000, dtype: float64,\n",
       " 0             NaN\n",
       " 1             NaN\n",
       " 2             NaN\n",
       " 3             NaN\n",
       " 4             NaN\n",
       "             ...  \n",
       " 1999995    4931.0\n",
       " 1999996    5026.0\n",
       " 1999997    5303.0\n",
       " 1999998    5362.0\n",
       " 1999999    5314.0\n",
       " Length: 2000000, dtype: float64,\n",
       " 0             NaN\n",
       " 1             NaN\n",
       " 2             NaN\n",
       " 3             NaN\n",
       " 4             NaN\n",
       "             ...  \n",
       " 1999995    4931.0\n",
       " 1999996    5026.0\n",
       " 1999997    5303.0\n",
       " 1999998    5362.0\n",
       " 1999999    5314.0\n",
       " Length: 2000000, dtype: float64]"
      ]
     },
     "execution_count": 12,
     "metadata": {},
     "output_type": "execute_result"
    }
   ],
   "source": [
    "result"
   ]
  },
  {
   "cell_type": "markdown",
   "id": "e1834793",
   "metadata": {},
   "source": [
    "## Test forms"
   ]
  },
  {
   "cell_type": "code",
   "execution_count": 13,
   "id": "4b732e2b",
   "metadata": {},
   "outputs": [],
   "source": [
    "df = pd.DataFrame(np.random.randint(0, 100, size=(1000000,10)))"
   ]
  },
  {
   "cell_type": "code",
   "execution_count": null,
   "id": "316c207f",
   "metadata": {},
   "outputs": [],
   "source": [
    "import forms\n",
    "formula = '=SUM(A1:B2)'\n",
    "forms.forms_config.core = 4\n",
    "%time forms.compute_formula(df, formula)"
   ]
  },
  {
   "cell_type": "markdown",
   "id": "7687a3e2",
   "metadata": {},
   "source": [
    "## Test Dask"
   ]
  },
  {
   "cell_type": "code",
   "execution_count": 3,
   "id": "d3d5c0de",
   "metadata": {},
   "outputs": [],
   "source": [
    "df = pd.DataFrame(np.random.randint(0, 100, size=(1000000,10)))"
   ]
  },
  {
   "cell_type": "code",
   "execution_count": 4,
   "id": "d1b959cd",
   "metadata": {},
   "outputs": [
    {
     "ename": "ModuleNotFoundError",
     "evalue": "No module named 'dask'",
     "output_type": "error",
     "traceback": [
      "\u001B[0;31m---------------------------------------------------------------------------\u001B[0m",
      "\u001B[0;31mModuleNotFoundError\u001B[0m                       Traceback (most recent call last)",
      "\u001B[0;32m<ipython-input-4-27c2e10d9b9f>\u001B[0m in \u001B[0;36m<module>\u001B[0;34m\u001B[0m\n\u001B[0;32m----> 1\u001B[0;31m \u001B[0;32mfrom\u001B[0m \u001B[0mdask\u001B[0m\u001B[0;34m.\u001B[0m\u001B[0mdistributed\u001B[0m \u001B[0;32mimport\u001B[0m \u001B[0mClient\u001B[0m\u001B[0;34m\u001B[0m\u001B[0;34m\u001B[0m\u001B[0m\n\u001B[0m\u001B[1;32m      2\u001B[0m \u001B[0mclient\u001B[0m \u001B[0;34m=\u001B[0m \u001B[0mClient\u001B[0m\u001B[0;34m(\u001B[0m\u001B[0;34m)\u001B[0m\u001B[0;34m\u001B[0m\u001B[0;34m\u001B[0m\u001B[0m\n",
      "\u001B[0;31mModuleNotFoundError\u001B[0m: No module named 'dask'"
     ]
    }
   ],
   "source": [
    "from dask.distributed import Client\n",
    "client = Client()"
   ]
  },
  {
   "cell_type": "code",
   "execution_count": null,
   "id": "a5829cfa",
   "metadata": {},
   "outputs": [],
   "source": []
  }
 ],
 "metadata": {
  "kernelspec": {
   "display_name": "forms-venv",
   "language": "python",
   "name": "forms-venv"
  },
  "language_info": {
   "codemirror_mode": {
    "name": "ipython",
    "version": 3
   },
   "file_extension": ".py",
   "mimetype": "text/x-python",
   "name": "python",
   "nbconvert_exporter": "python",
   "pygments_lexer": "ipython3",
   "version": "3.8.10"
  }
 },
 "nbformat": 4,
 "nbformat_minor": 5
}