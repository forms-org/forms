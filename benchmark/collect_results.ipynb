{
 "cells": [
  {
   "cell_type": "code",
   "execution_count": null,
   "metadata": {
    "pycharm": {
     "name": "#%%\n"
    }
   },
   "outputs": [],
   "source": [
    "import os\n",
    "import json\n",
    "import pandas as pd\n",
    "import seaborn as sns\n",
    "import matplotlib.pyplot as plt\n",
    "from matplotlib.ticker import FixedLocator"
   ]
  },
  {
   "cell_type": "markdown",
   "metadata": {
    "pycharm": {
     "name": "#%% md\n"
    }
   },
   "source": [
    "## Experiment1\n",
    "Workload: \n",
    "- Weather data,\n",
    "- SUM(RR/FR), MAX(RR/FR), AVERAGE(RR/FR), SUMIF(RR/FR), MEDIAN(RR/FR)\n",
    "\n",
    "### Experiment1.1\n",
    "\n",
    "Baselines: FormS-formulas, FormS\n",
    "\n",
    "Details: vary the number of cores: 1, 2, 4, 8, 16, 32; 1M rows\n"
   ]
  },
  {
   "cell_type": "code",
   "execution_count": null,
   "metadata": {
    "pycharm": {
     "name": "#%%\n"
    }
   },
   "outputs": [],
   "source": [
    "test_path = 'results/TEST-CORES'\n",
    "for i in range(1, 11):\n",
    "    path = os.path.join(test_path, str(i))\n",
    "    all_data = []\n",
    "    for root, dirs, files in os.walk(path):\n",
    "        for filename in files:\n",
    "            if filename == \"config.json\":\n",
    "                with open(os.path.join(root, filename), 'r') as f:\n",
    "                    text = f.read()\n",
    "                    data = json.loads(text)\n",
    "                    all_data.append(data)\n",
    "    all_df = pd.DataFrame(all_data)\n",
    "    formula_str = all_df.iloc[0]['formula_str'][1:-1]\n",
    "    df = all_df[['cores', 'function_executor', 'execution_time_in_ms']].groupby(['cores', 'function_executor']).mean().reset_index()\n",
    "    plot = sns.lineplot(data=df, x='cores', y='execution_time_in_ms', hue='function_executor')\n",
    "    plot.xaxis.set_major_locator(FixedLocator([1, 2, 4, 8, 16, 32]))\n",
    "    plt.title(formula_str)\n",
    "    plot.get_figure().savefig('plots/cores/' + formula_str + '.pdf', dpi=300)\n",
    "    plt.clf()"
   ]
  },
  {
   "cell_type": "markdown",
   "metadata": {},
   "source": [
    "### Experiment1.2\n",
    "Workload and Baseline same as above \n",
    "\n",
    "Details: vary the dataset sizes: 200K, 400K, 600K, 800K, 1M rows; 32 cores\n"
   ]
  },
  {
   "cell_type": "code",
   "execution_count": null,
   "metadata": {
    "pycharm": {
     "name": "#%%\n"
    }
   },
   "outputs": [],
   "source": [
    "test_path = 'results/TEST-ROWS'\n",
    "for i in range(1, 11):\n",
    "    path = os.path.join(test_path, str(i))\n",
    "    all_data = []\n",
    "    for root, dirs, files in os.walk(path):\n",
    "        for filename in files:\n",
    "            if filename == \"config.json\":\n",
    "                with open(os.path.join(root, filename), 'r') as f:\n",
    "                    text = f.read()\n",
    "                    data = json.loads(text)\n",
    "                    all_data.append(data)\n",
    "    all_df = pd.DataFrame(all_data)\n",
    "    all_df['row_num_in_k'] = all_df['row_num'] / 1000\n",
    "    formula_str = all_df.iloc[0]['formula_str'][1:]\n",
    "    df = all_df[['row_num_in_k', 'function_executor', 'execution_time_in_ms']].groupby(['row_num_in_k', 'function_executor']).mean().reset_index()\n",
    "    plot = sns.lineplot(data=df, x='row_num_in_k', y='execution_time_in_ms', hue='function_executor')\n",
    "    plot.xaxis.set_major_locator(FixedLocator([200,400,600,800,1000]))\n",
    "    plt.title(formula_str)\n",
    "    plot.get_figure().savefig('plots/rows/' + formula_str + '.pdf', dpi=300)\n",
    "    plt.clf()"
   ]
  },
  {
   "cell_type": "markdown",
   "metadata": {
    "pycharm": {
     "name": "#%%\n"
    }
   },
   "source": [
    "## Experiment 2 \n",
    "Test Rewritten Rules\n",
    "Workload: Weather data (1M, 32 cores)\n",
    "Baseline: FormS-norewrite\n",
    "\n",
    "## Experiment 2.1: \n",
    "Rule1-2: A1+B1+C1+..., vary the number of pluses (5 pluses)"
   ]
  },
  {
   "cell_type": "code",
   "execution_count": null,
   "metadata": {},
   "outputs": [],
   "source": []
  }
 ],
 "metadata": {
  "kernelspec": {
   "display_name": "Python 3",
   "language": "python",
   "name": "python3"
  },
  "language_info": {
   "codemirror_mode": {
    "name": "ipython",
    "version": 3
   },
   "file_extension": ".py",
   "mimetype": "text/x-python",
   "name": "python",
   "nbconvert_exporter": "python",
   "pygments_lexer": "ipython3",
   "version": "3.8.3"
  }
 },
 "nbformat": 4,
 "nbformat_minor": 1
}