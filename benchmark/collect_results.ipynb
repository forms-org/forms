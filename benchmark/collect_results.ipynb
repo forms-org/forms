{
 "cells": [
  {
   "cell_type": "code",
   "execution_count": 1,
   "metadata": {
    "pycharm": {
     "name": "#%%\n"
    }
   },
   "outputs": [
    {
     "name": "stderr",
     "output_type": "stream",
     "text": [
      "/Users/eve/opt/anaconda3/lib/python3.8/site-packages/pandas/core/computation/expressions.py:21: UserWarning: Pandas requires version '2.7.3' or newer of 'numexpr' (version '2.7.1' currently installed).\n",
      "  from pandas.core.computation.check import NUMEXPR_INSTALLED\n"
     ]
    }
   ],
   "source": [
    "import os\n",
    "import json\n",
    "import pandas as pd\n",
    "import seaborn as sns\n",
    "import matplotlib.pyplot as plt\n",
    "from matplotlib.ticker import FixedLocator"
   ]
  },
  {
   "cell_type": "markdown",
   "metadata": {
    "pycharm": {
     "name": "#%% md\n"
    }
   },
   "source": [
    "## Experiment1\n",
    "Workload: \n",
    "- Weather data,\n",
    "- SUM(RR/FR), MAX(RR/FR), AVERAGE(RR/FR), SUMIF(RR/FR), MEDIAN(RR/FR)\n",
    "\n",
    "### Experiment1.1\n",
    "\n",
    "Baselines: FormS-formulas, FormS\n",
    "\n",
    "Details: vary the number of cores: 1, 2, 4, 8, 16, 32; 1M rows\n"
   ]
  },
  {
   "cell_type": "code",
   "execution_count": 16,
   "metadata": {
    "pycharm": {
     "name": "#%%\n"
    }
   },
   "outputs": [
    {
     "ename": "KeyError",
     "evalue": "'function_executor'",
     "output_type": "error",
     "traceback": [
      "\u001B[0;31m---------------------------------------------------------------------------\u001B[0m",
      "\u001B[0;31mKeyError\u001B[0m                                  Traceback (most recent call last)",
      "\u001B[0;32m~/opt/anaconda3/lib/python3.8/site-packages/pandas/core/indexes/base.py\u001B[0m in \u001B[0;36mget_loc\u001B[0;34m(self, key, method, tolerance)\u001B[0m\n\u001B[1;32m   3799\u001B[0m             \u001B[0;32mtry\u001B[0m\u001B[0;34m:\u001B[0m\u001B[0;34m\u001B[0m\u001B[0;34m\u001B[0m\u001B[0m\n\u001B[0;32m-> 3800\u001B[0;31m                 \u001B[0;32mreturn\u001B[0m \u001B[0mself\u001B[0m\u001B[0;34m.\u001B[0m\u001B[0m_engine\u001B[0m\u001B[0;34m.\u001B[0m\u001B[0mget_loc\u001B[0m\u001B[0;34m(\u001B[0m\u001B[0mcasted_key\u001B[0m\u001B[0;34m)\u001B[0m\u001B[0;34m\u001B[0m\u001B[0;34m\u001B[0m\u001B[0m\n\u001B[0m\u001B[1;32m   3801\u001B[0m             \u001B[0;32mexcept\u001B[0m \u001B[0mKeyError\u001B[0m \u001B[0;32mas\u001B[0m \u001B[0merr\u001B[0m\u001B[0;34m:\u001B[0m\u001B[0;34m\u001B[0m\u001B[0;34m\u001B[0m\u001B[0m\n",
      "\u001B[0;32m~/opt/anaconda3/lib/python3.8/site-packages/pandas/_libs/index.pyx\u001B[0m in \u001B[0;36mpandas._libs.index.IndexEngine.get_loc\u001B[0;34m()\u001B[0m\n",
      "\u001B[0;32m~/opt/anaconda3/lib/python3.8/site-packages/pandas/_libs/index.pyx\u001B[0m in \u001B[0;36mpandas._libs.index.IndexEngine.get_loc\u001B[0;34m()\u001B[0m\n",
      "\u001B[0;32mpandas/_libs/hashtable_class_helper.pxi\u001B[0m in \u001B[0;36mpandas._libs.hashtable.PyObjectHashTable.get_item\u001B[0;34m()\u001B[0m\n",
      "\u001B[0;32mpandas/_libs/hashtable_class_helper.pxi\u001B[0m in \u001B[0;36mpandas._libs.hashtable.PyObjectHashTable.get_item\u001B[0;34m()\u001B[0m\n",
      "\u001B[0;31mKeyError\u001B[0m: 'function_executor'",
      "\nThe above exception was the direct cause of the following exception:\n",
      "\u001B[0;31mKeyError\u001B[0m                                  Traceback (most recent call last)",
      "\u001B[0;32m<ipython-input-16-d4069024b53c>\u001B[0m in \u001B[0;36m<module>\u001B[0;34m\u001B[0m\n\u001B[1;32m     19\u001B[0m                     \u001B[0mall_data\u001B[0m\u001B[0;34m.\u001B[0m\u001B[0mappend\u001B[0m\u001B[0;34m(\u001B[0m\u001B[0mdata\u001B[0m\u001B[0;34m)\u001B[0m\u001B[0;34m\u001B[0m\u001B[0;34m\u001B[0m\u001B[0m\n\u001B[1;32m     20\u001B[0m     \u001B[0mall_df\u001B[0m \u001B[0;34m=\u001B[0m \u001B[0mpd\u001B[0m\u001B[0;34m.\u001B[0m\u001B[0mDataFrame\u001B[0m\u001B[0;34m(\u001B[0m\u001B[0mall_data\u001B[0m\u001B[0;34m)\u001B[0m\u001B[0;34m\u001B[0m\u001B[0;34m\u001B[0m\u001B[0m\n\u001B[0;32m---> 21\u001B[0;31m     \u001B[0mall_df\u001B[0m \u001B[0;34m=\u001B[0m \u001B[0mall_df\u001B[0m\u001B[0;34m[\u001B[0m\u001B[0mall_df\u001B[0m\u001B[0;34m[\u001B[0m\u001B[0;34m'function_executor'\u001B[0m\u001B[0;34m]\u001B[0m \u001B[0;34m==\u001B[0m \u001B[0;34m'df_pandas_executor'\u001B[0m\u001B[0;34m]\u001B[0m\u001B[0;34m\u001B[0m\u001B[0;34m\u001B[0m\u001B[0m\n\u001B[0m\u001B[1;32m     22\u001B[0m     \u001B[0mformula_str\u001B[0m \u001B[0;34m=\u001B[0m \u001B[0mall_df\u001B[0m\u001B[0;34m.\u001B[0m\u001B[0miloc\u001B[0m\u001B[0;34m[\u001B[0m\u001B[0;36m0\u001B[0m\u001B[0;34m]\u001B[0m\u001B[0;34m[\u001B[0m\u001B[0;34m'formula_str'\u001B[0m\u001B[0;34m]\u001B[0m\u001B[0;34m[\u001B[0m\u001B[0;36m1\u001B[0m\u001B[0;34m:\u001B[0m\u001B[0;34m]\u001B[0m\u001B[0;34m\u001B[0m\u001B[0;34m\u001B[0m\u001B[0m\n\u001B[1;32m     23\u001B[0m     \u001B[0mdf\u001B[0m \u001B[0;34m=\u001B[0m \u001B[0mall_df\u001B[0m\u001B[0;34m[\u001B[0m\u001B[0;34m[\u001B[0m\u001B[0;34m'cores'\u001B[0m\u001B[0;34m,\u001B[0m \u001B[0;34m'function_executor'\u001B[0m\u001B[0;34m,\u001B[0m \u001B[0;34m'execution_time_in_ms'\u001B[0m\u001B[0;34m]\u001B[0m\u001B[0;34m]\u001B[0m\u001B[0;34m.\u001B[0m\u001B[0mgroupby\u001B[0m\u001B[0;34m(\u001B[0m\u001B[0;34m[\u001B[0m\u001B[0;34m'cores'\u001B[0m\u001B[0;34m,\u001B[0m \u001B[0;34m'function_executor'\u001B[0m\u001B[0;34m]\u001B[0m\u001B[0;34m)\u001B[0m\u001B[0;34m.\u001B[0m\u001B[0mmean\u001B[0m\u001B[0;34m(\u001B[0m\u001B[0;34m)\u001B[0m\u001B[0;34m.\u001B[0m\u001B[0mreset_index\u001B[0m\u001B[0;34m(\u001B[0m\u001B[0;34m)\u001B[0m\u001B[0;34m\u001B[0m\u001B[0;34m\u001B[0m\u001B[0m\n",
      "\u001B[0;32m~/opt/anaconda3/lib/python3.8/site-packages/pandas/core/frame.py\u001B[0m in \u001B[0;36m__getitem__\u001B[0;34m(self, key)\u001B[0m\n\u001B[1;32m   3803\u001B[0m             \u001B[0;32mif\u001B[0m \u001B[0mself\u001B[0m\u001B[0;34m.\u001B[0m\u001B[0mcolumns\u001B[0m\u001B[0;34m.\u001B[0m\u001B[0mnlevels\u001B[0m \u001B[0;34m>\u001B[0m \u001B[0;36m1\u001B[0m\u001B[0;34m:\u001B[0m\u001B[0;34m\u001B[0m\u001B[0;34m\u001B[0m\u001B[0m\n\u001B[1;32m   3804\u001B[0m                 \u001B[0;32mreturn\u001B[0m \u001B[0mself\u001B[0m\u001B[0;34m.\u001B[0m\u001B[0m_getitem_multilevel\u001B[0m\u001B[0;34m(\u001B[0m\u001B[0mkey\u001B[0m\u001B[0;34m)\u001B[0m\u001B[0;34m\u001B[0m\u001B[0;34m\u001B[0m\u001B[0m\n\u001B[0;32m-> 3805\u001B[0;31m             \u001B[0mindexer\u001B[0m \u001B[0;34m=\u001B[0m \u001B[0mself\u001B[0m\u001B[0;34m.\u001B[0m\u001B[0mcolumns\u001B[0m\u001B[0;34m.\u001B[0m\u001B[0mget_loc\u001B[0m\u001B[0;34m(\u001B[0m\u001B[0mkey\u001B[0m\u001B[0;34m)\u001B[0m\u001B[0;34m\u001B[0m\u001B[0;34m\u001B[0m\u001B[0m\n\u001B[0m\u001B[1;32m   3806\u001B[0m             \u001B[0;32mif\u001B[0m \u001B[0mis_integer\u001B[0m\u001B[0;34m(\u001B[0m\u001B[0mindexer\u001B[0m\u001B[0;34m)\u001B[0m\u001B[0;34m:\u001B[0m\u001B[0;34m\u001B[0m\u001B[0;34m\u001B[0m\u001B[0m\n\u001B[1;32m   3807\u001B[0m                 \u001B[0mindexer\u001B[0m \u001B[0;34m=\u001B[0m \u001B[0;34m[\u001B[0m\u001B[0mindexer\u001B[0m\u001B[0;34m]\u001B[0m\u001B[0;34m\u001B[0m\u001B[0;34m\u001B[0m\u001B[0m\n",
      "\u001B[0;32m~/opt/anaconda3/lib/python3.8/site-packages/pandas/core/indexes/base.py\u001B[0m in \u001B[0;36mget_loc\u001B[0;34m(self, key, method, tolerance)\u001B[0m\n\u001B[1;32m   3800\u001B[0m                 \u001B[0;32mreturn\u001B[0m \u001B[0mself\u001B[0m\u001B[0;34m.\u001B[0m\u001B[0m_engine\u001B[0m\u001B[0;34m.\u001B[0m\u001B[0mget_loc\u001B[0m\u001B[0;34m(\u001B[0m\u001B[0mcasted_key\u001B[0m\u001B[0;34m)\u001B[0m\u001B[0;34m\u001B[0m\u001B[0;34m\u001B[0m\u001B[0m\n\u001B[1;32m   3801\u001B[0m             \u001B[0;32mexcept\u001B[0m \u001B[0mKeyError\u001B[0m \u001B[0;32mas\u001B[0m \u001B[0merr\u001B[0m\u001B[0;34m:\u001B[0m\u001B[0;34m\u001B[0m\u001B[0;34m\u001B[0m\u001B[0m\n\u001B[0;32m-> 3802\u001B[0;31m                 \u001B[0;32mraise\u001B[0m \u001B[0mKeyError\u001B[0m\u001B[0;34m(\u001B[0m\u001B[0mkey\u001B[0m\u001B[0;34m)\u001B[0m \u001B[0;32mfrom\u001B[0m \u001B[0merr\u001B[0m\u001B[0;34m\u001B[0m\u001B[0;34m\u001B[0m\u001B[0m\n\u001B[0m\u001B[1;32m   3803\u001B[0m             \u001B[0;32mexcept\u001B[0m \u001B[0mTypeError\u001B[0m\u001B[0;34m:\u001B[0m\u001B[0;34m\u001B[0m\u001B[0;34m\u001B[0m\u001B[0m\n\u001B[1;32m   3804\u001B[0m                 \u001B[0;31m# If we have a listlike key, _check_indexing_error will raise\u001B[0m\u001B[0;34m\u001B[0m\u001B[0;34m\u001B[0m\u001B[0;34m\u001B[0m\u001B[0m\n",
      "\u001B[0;31mKeyError\u001B[0m: 'function_executor'"
     ]
    },
    {
     "data": {
      "text/plain": [
       "<Figure size 432x288 with 0 Axes>"
      ]
     },
     "metadata": {},
     "output_type": "display_data"
    }
   ],
   "source": [
    "def change_cores(df):\n",
    "    df.loc[df['cores'] == 4, \"cores\"] = 3\n",
    "    df.loc[df['cores'] == 8, \"cores\"] = 4\n",
    "    df.loc[df['cores'] == 16, \"cores\"] = 5\n",
    "    df.loc[df['cores'] == 32, \"cores\"] = 6\n",
    "    return df\n",
    "\n",
    "test_path = 'results/TEST-CORES-10M'\n",
    "for i in range(1, 11):\n",
    "    path = os.path.join(test_path, str(i))\n",
    "    all_data = []\n",
    "    for root, dirs, files in os.walk(path):\n",
    "        for filename in files:\n",
    "            if filename == \"config.json\":\n",
    "                with open(os.path.join(root, filename), 'r') as f:\n",
    "                    text = f.read()\n",
    "                    data = json.loads(text)\n",
    "                    all_data.append(data)\n",
    "    all_df = pd.DataFrame(all_data)\n",
    "    all_df = all_df[all_df['function_executor'] == 'df_pandas_executor']\n",
    "    formula_str = all_df.iloc[0]['formula_str'][1:]\n",
    "    df = all_df[['cores', 'function_executor', 'execution_time_in_ms']].groupby(['cores', 'function_executor']).mean().reset_index()\n",
    "    df = change_cores(df)\n",
    "    plot = sns.lineplot(data=df, x='cores', y='execution_time_in_ms', marker='o')\n",
    "    plot.set_xticks(range(1,7))\n",
    "    plot.set_xticklabels([1,2,4,8,16,32])\n",
    "    plt.title(formula_str)\n",
    "    plot.get_figure().savefig('plots/cores-10M/' + formula_str + '.pdf', dpi=300)\n",
    "    plt.clf()"
   ]
  },
  {
   "cell_type": "markdown",
   "metadata": {},
   "source": [
    "### Experiment1.2\n",
    "Workload and Baseline same as above \n",
    "\n",
    "Details: vary the dataset sizes: 200K, 400K, 600K, 800K, 1M rows; 32 cores\n"
   ]
  },
  {
   "cell_type": "code",
   "execution_count": 16,
   "metadata": {
    "pycharm": {
     "name": "#%%\n"
    }
   },
   "outputs": [
    {
     "data": {
      "text/plain": [
       "<Figure size 432x288 with 0 Axes>"
      ]
     },
     "metadata": {},
     "output_type": "display_data"
    }
   ],
   "source": [
    "test_path = 'results/TEST-ROWS'\n",
    "for i in range(1, 11):\n",
    "    path = os.path.join(test_path, str(i))\n",
    "    all_data = []\n",
    "    for root, dirs, files in os.walk(path):\n",
    "        for filename in files:\n",
    "            if filename == \"config.json\":\n",
    "                with open(os.path.join(root, filename), 'r') as f:\n",
    "                    text = f.read()\n",
    "                    data = json.loads(text)\n",
    "                    all_data.append(data)\n",
    "    all_df = pd.DataFrame(all_data)\n",
    "    all_df['row_num_in_k'] = all_df['row_num'] / 1000\n",
    "    formula_str = all_df.iloc[0]['formula_str'][1:]\n",
    "    df = all_df[['row_num_in_k', 'function_executor', 'execution_time_in_ms']].groupby(['row_num_in_k', 'function_executor']).mean().reset_index()\n",
    "    plot = sns.lineplot(data=df, x='row_num_in_k', y='execution_time_in_ms', hue='function_executor')\n",
    "    plot.xaxis.set_major_locator(FixedLocator([200,400,600,800,1000]))\n",
    "    plt.title(formula_str)\n",
    "    plot.get_figure().savefig('plots/rows/' + formula_str + '.pdf', dpi=300)\n",
    "    plt.clf()"
   ]
  },
  {
   "cell_type": "markdown",
   "metadata": {
    "pycharm": {
     "name": "#%%\n"
    }
   },
   "source": [
    "## Experiment 2 \n",
    "Test Rewritten Rules\n",
    "Workload: Weather data (1M, 32 cores)\n",
    "Baseline: FormS-norewrite\n",
    "\n",
    "## Experiment 2.1: \n",
    "Rule1-2: A1+B1+C1+..., vary the number of pluses (5 pluses)"
   ]
  },
  {
   "cell_type": "code",
   "execution_count": 35,
   "metadata": {},
   "outputs": [
    {
     "data": {
      "text/plain": [
       "<Figure size 432x288 with 0 Axes>"
      ]
     },
     "metadata": {},
     "output_type": "display_data"
    }
   ],
   "source": [
    "test_path = 'results/TEST-REWRITE-1'\n",
    "all_data = []\n",
    "for root, dirs, files in os.walk(test_path):\n",
    "    for filename in files:\n",
    "        if filename == \"config.json\":\n",
    "            with open(os.path.join(root, filename), 'r') as f:\n",
    "                text = f.read()\n",
    "                data = json.loads(text)\n",
    "                data['plus_num'] = int(root[root.find('PLUS') - 1])\n",
    "                data['rewrite'] = data['enable_logical_rewriting']\n",
    "                all_data.append(data)\n",
    "all_df = pd.DataFrame(all_data)\n",
    "df = all_df[['plus_num', 'rewrite', 'execution_time_in_ms']].groupby(['plus_num', 'rewrite']).mean().reset_index()\n",
    "plot = sns.lineplot(data=df, x='plus_num', y='execution_time_in_ms', hue='rewrite')\n",
    "plot.xaxis.set_major_locator(FixedLocator([1,2,3,4,5]))\n",
    "plt.title('A1+B1+C1+...')\n",
    "plot.get_figure().savefig('plots/rewrite/1.pdf', dpi=300)\n",
    "plt.clf()"
   ]
  },
  {
   "cell_type": "markdown",
   "metadata": {},
   "source": [
    "### Experiment 2.2\n",
    "\n",
    "Rule2: MAX(A1, B$1:B1), the number of rows: 200K, 400K, …, 1M"
   ]
  },
  {
   "cell_type": "code",
   "execution_count": 36,
   "metadata": {},
   "outputs": [
    {
     "data": {
      "text/plain": [
       "<Figure size 432x288 with 0 Axes>"
      ]
     },
     "metadata": {},
     "output_type": "display_data"
    }
   ],
   "source": [
    "test_path = 'results/TEST-REWRITE-2'\n",
    "all_data = []\n",
    "for root, dirs, files in os.walk(test_path):\n",
    "    for filename in files:\n",
    "        if filename == \"config.json\":\n",
    "            with open(os.path.join(root, filename), 'r') as f:\n",
    "                text = f.read()\n",
    "                data = json.loads(text)\n",
    "                data['rewrite'] = data['enable_logical_rewriting']\n",
    "                all_data.append(data)\n",
    "all_df = pd.DataFrame(all_data)\n",
    "all_df['row_num_in_k'] = all_df['row_num'] / 1000\n",
    "df = all_df[['row_num_in_k', 'rewrite', 'execution_time_in_ms']].groupby(['row_num_in_k', 'rewrite']).mean().reset_index()\n",
    "plot = sns.lineplot(data=df, x='row_num_in_k', y='execution_time_in_ms', hue='rewrite')\n",
    "plot.xaxis.set_major_locator(FixedLocator([200,400,600,800,1000]))\n",
    "plt.title('MAX(A1, B$1:B1)')\n",
    "plot.get_figure().savefig('plots/rewrite/2.pdf', dpi=300)\n",
    "plt.clf()"
   ]
  },
  {
   "cell_type": "markdown",
   "metadata": {},
   "source": [
    "### Experiment 2.3: \n",
    "\n",
    "Rule4: SUMIF(): varying the number of overlapping IF conditions across SUMIF functions, SUMIF(A1:A1, “> 10”), SUMIF(A1:A5, “> 10”), SUMIF(A1:A10, “> 10”), …\n"
   ]
  },
  {
   "cell_type": "code",
   "execution_count": 4,
   "metadata": {},
   "outputs": [
    {
     "data": {
      "text/plain": [
       "<Figure size 432x288 with 0 Axes>"
      ]
     },
     "metadata": {},
     "output_type": "display_data"
    }
   ],
   "source": [
    "test_path = 'results/TEST-REWRITE-3'\n",
    "all_data = []\n",
    "for root, dirs, files in os.walk(test_path):\n",
    "    for filename in files:\n",
    "        if filename == \"config.json\":\n",
    "            with open(os.path.join(root, filename), 'r') as f:\n",
    "                text = f.read()\n",
    "                data = json.loads(text)\n",
    "                root = root[:root.find('OVERLAP')]\n",
    "                root = root[root.rfind('/')+1:]\n",
    "                data['overlap_row_num'] = int(root)\n",
    "                data['rewrite'] = data['enable_logical_rewriting']\n",
    "                all_data.append(data)\n",
    "all_df = pd.DataFrame(all_data)\n",
    "df = all_df[['overlap_row_num', 'rewrite', 'execution_time_in_ms']].groupby(['overlap_row_num', 'rewrite']).mean().reset_index()\n",
    "plot = sns.lineplot(data=df, x='overlap_row_num', y='execution_time_in_ms', hue='rewrite')\n",
    "plot.xaxis.set_major_locator(FixedLocator([200,400,600,800,1000]))\n",
    "plt.title('SUMIF')\n",
    "plot.get_figure().savefig('plots/rewrite/3.pdf', dpi=300)\n",
    "plt.clf()"
   ]
  },
  {
   "cell_type": "markdown",
   "metadata": {},
   "source": [
    "### Experiment 2.4: \n",
    "Rule6: SUM(A1, A\\\\$1:A\\\\$200K): vary the size of the FF ranges: A1:A200000, A1:A400000, A1:A600000, …, A1:A1000000 -->"
   ]
  },
  {
   "cell_type": "code",
   "execution_count": 5,
   "metadata": {},
   "outputs": [
    {
     "ename": "KeyError",
     "evalue": "\"None of [Index(['range_row_num_in_k', 'rewrite', 'execution_time_in_ms'], dtype='object')] are in the [columns]\"",
     "output_type": "error",
     "traceback": [
      "\u001B[0;31m---------------------------------------------------------------------------\u001B[0m",
      "\u001B[0;31mKeyError\u001B[0m                                  Traceback (most recent call last)",
      "\u001B[0;32m<ipython-input-5-0867d8dcbe43>\u001B[0m in \u001B[0;36m<module>\u001B[0;34m\u001B[0m\n\u001B[1;32m     13\u001B[0m                 \u001B[0mall_data\u001B[0m\u001B[0;34m.\u001B[0m\u001B[0mappend\u001B[0m\u001B[0;34m(\u001B[0m\u001B[0mdata\u001B[0m\u001B[0;34m)\u001B[0m\u001B[0;34m\u001B[0m\u001B[0;34m\u001B[0m\u001B[0m\n\u001B[1;32m     14\u001B[0m \u001B[0mall_df\u001B[0m \u001B[0;34m=\u001B[0m \u001B[0mpd\u001B[0m\u001B[0;34m.\u001B[0m\u001B[0mDataFrame\u001B[0m\u001B[0;34m(\u001B[0m\u001B[0mall_data\u001B[0m\u001B[0;34m)\u001B[0m\u001B[0;34m\u001B[0m\u001B[0;34m\u001B[0m\u001B[0m\n\u001B[0;32m---> 15\u001B[0;31m \u001B[0mdf\u001B[0m \u001B[0;34m=\u001B[0m \u001B[0mall_df\u001B[0m\u001B[0;34m[\u001B[0m\u001B[0;34m[\u001B[0m\u001B[0;34m'range_row_num_in_k'\u001B[0m\u001B[0;34m,\u001B[0m \u001B[0;34m'rewrite'\u001B[0m\u001B[0;34m,\u001B[0m \u001B[0;34m'execution_time_in_ms'\u001B[0m\u001B[0;34m]\u001B[0m\u001B[0;34m]\u001B[0m\u001B[0;34m.\u001B[0m\u001B[0mgroupby\u001B[0m\u001B[0;34m(\u001B[0m\u001B[0;34m[\u001B[0m\u001B[0;34m'range_row_num_in_k'\u001B[0m\u001B[0;34m,\u001B[0m \u001B[0;34m'rewrite'\u001B[0m\u001B[0;34m]\u001B[0m\u001B[0;34m)\u001B[0m\u001B[0;34m.\u001B[0m\u001B[0mmean\u001B[0m\u001B[0;34m(\u001B[0m\u001B[0;34m)\u001B[0m\u001B[0;34m.\u001B[0m\u001B[0mreset_index\u001B[0m\u001B[0;34m(\u001B[0m\u001B[0;34m)\u001B[0m\u001B[0;34m\u001B[0m\u001B[0;34m\u001B[0m\u001B[0m\n\u001B[0m\u001B[1;32m     16\u001B[0m \u001B[0mplot\u001B[0m \u001B[0;34m=\u001B[0m \u001B[0msns\u001B[0m\u001B[0;34m.\u001B[0m\u001B[0mlineplot\u001B[0m\u001B[0;34m(\u001B[0m\u001B[0mdata\u001B[0m\u001B[0;34m=\u001B[0m\u001B[0mdf\u001B[0m\u001B[0;34m,\u001B[0m \u001B[0mx\u001B[0m\u001B[0;34m=\u001B[0m\u001B[0;34m'range_row_num_in_k'\u001B[0m\u001B[0;34m,\u001B[0m \u001B[0my\u001B[0m\u001B[0;34m=\u001B[0m\u001B[0;34m'execution_time_in_ms'\u001B[0m\u001B[0;34m,\u001B[0m \u001B[0mhue\u001B[0m\u001B[0;34m=\u001B[0m\u001B[0;34m'rewrite'\u001B[0m\u001B[0;34m)\u001B[0m\u001B[0;34m\u001B[0m\u001B[0;34m\u001B[0m\u001B[0m\n\u001B[1;32m     17\u001B[0m \u001B[0mplot\u001B[0m\u001B[0;34m.\u001B[0m\u001B[0mxaxis\u001B[0m\u001B[0;34m.\u001B[0m\u001B[0mset_major_locator\u001B[0m\u001B[0;34m(\u001B[0m\u001B[0mFixedLocator\u001B[0m\u001B[0;34m(\u001B[0m\u001B[0;34m[\u001B[0m\u001B[0;36m200\u001B[0m\u001B[0;34m,\u001B[0m\u001B[0;36m400\u001B[0m\u001B[0;34m,\u001B[0m\u001B[0;36m600\u001B[0m\u001B[0;34m,\u001B[0m\u001B[0;36m800\u001B[0m\u001B[0;34m,\u001B[0m\u001B[0;36m1000\u001B[0m\u001B[0;34m]\u001B[0m\u001B[0;34m)\u001B[0m\u001B[0;34m)\u001B[0m\u001B[0;34m\u001B[0m\u001B[0;34m\u001B[0m\u001B[0m\n",
      "\u001B[0;32m~/opt/anaconda3/lib/python3.8/site-packages/pandas/core/frame.py\u001B[0m in \u001B[0;36m__getitem__\u001B[0;34m(self, key)\u001B[0m\n\u001B[1;32m   3809\u001B[0m             \u001B[0;32mif\u001B[0m \u001B[0mis_iterator\u001B[0m\u001B[0;34m(\u001B[0m\u001B[0mkey\u001B[0m\u001B[0;34m)\u001B[0m\u001B[0;34m:\u001B[0m\u001B[0;34m\u001B[0m\u001B[0;34m\u001B[0m\u001B[0m\n\u001B[1;32m   3810\u001B[0m                 \u001B[0mkey\u001B[0m \u001B[0;34m=\u001B[0m \u001B[0mlist\u001B[0m\u001B[0;34m(\u001B[0m\u001B[0mkey\u001B[0m\u001B[0;34m)\u001B[0m\u001B[0;34m\u001B[0m\u001B[0;34m\u001B[0m\u001B[0m\n\u001B[0;32m-> 3811\u001B[0;31m             \u001B[0mindexer\u001B[0m \u001B[0;34m=\u001B[0m \u001B[0mself\u001B[0m\u001B[0;34m.\u001B[0m\u001B[0mcolumns\u001B[0m\u001B[0;34m.\u001B[0m\u001B[0m_get_indexer_strict\u001B[0m\u001B[0;34m(\u001B[0m\u001B[0mkey\u001B[0m\u001B[0;34m,\u001B[0m \u001B[0;34m\"columns\"\u001B[0m\u001B[0;34m)\u001B[0m\u001B[0;34m[\u001B[0m\u001B[0;36m1\u001B[0m\u001B[0;34m]\u001B[0m\u001B[0;34m\u001B[0m\u001B[0;34m\u001B[0m\u001B[0m\n\u001B[0m\u001B[1;32m   3812\u001B[0m \u001B[0;34m\u001B[0m\u001B[0m\n\u001B[1;32m   3813\u001B[0m         \u001B[0;31m# take() does not accept boolean indexers\u001B[0m\u001B[0;34m\u001B[0m\u001B[0;34m\u001B[0m\u001B[0;34m\u001B[0m\u001B[0m\n",
      "\u001B[0;32m~/opt/anaconda3/lib/python3.8/site-packages/pandas/core/indexes/base.py\u001B[0m in \u001B[0;36m_get_indexer_strict\u001B[0;34m(self, key, axis_name)\u001B[0m\n\u001B[1;32m   6106\u001B[0m             \u001B[0mkeyarr\u001B[0m\u001B[0;34m,\u001B[0m \u001B[0mindexer\u001B[0m\u001B[0;34m,\u001B[0m \u001B[0mnew_indexer\u001B[0m \u001B[0;34m=\u001B[0m \u001B[0mself\u001B[0m\u001B[0;34m.\u001B[0m\u001B[0m_reindex_non_unique\u001B[0m\u001B[0;34m(\u001B[0m\u001B[0mkeyarr\u001B[0m\u001B[0;34m)\u001B[0m\u001B[0;34m\u001B[0m\u001B[0;34m\u001B[0m\u001B[0m\n\u001B[1;32m   6107\u001B[0m \u001B[0;34m\u001B[0m\u001B[0m\n\u001B[0;32m-> 6108\u001B[0;31m         \u001B[0mself\u001B[0m\u001B[0;34m.\u001B[0m\u001B[0m_raise_if_missing\u001B[0m\u001B[0;34m(\u001B[0m\u001B[0mkeyarr\u001B[0m\u001B[0;34m,\u001B[0m \u001B[0mindexer\u001B[0m\u001B[0;34m,\u001B[0m \u001B[0maxis_name\u001B[0m\u001B[0;34m)\u001B[0m\u001B[0;34m\u001B[0m\u001B[0;34m\u001B[0m\u001B[0m\n\u001B[0m\u001B[1;32m   6109\u001B[0m \u001B[0;34m\u001B[0m\u001B[0m\n\u001B[1;32m   6110\u001B[0m         \u001B[0mkeyarr\u001B[0m \u001B[0;34m=\u001B[0m \u001B[0mself\u001B[0m\u001B[0;34m.\u001B[0m\u001B[0mtake\u001B[0m\u001B[0;34m(\u001B[0m\u001B[0mindexer\u001B[0m\u001B[0;34m)\u001B[0m\u001B[0;34m\u001B[0m\u001B[0;34m\u001B[0m\u001B[0m\n",
      "\u001B[0;32m~/opt/anaconda3/lib/python3.8/site-packages/pandas/core/indexes/base.py\u001B[0m in \u001B[0;36m_raise_if_missing\u001B[0;34m(self, key, indexer, axis_name)\u001B[0m\n\u001B[1;32m   6166\u001B[0m                 \u001B[0;32mif\u001B[0m \u001B[0muse_interval_msg\u001B[0m\u001B[0;34m:\u001B[0m\u001B[0;34m\u001B[0m\u001B[0;34m\u001B[0m\u001B[0m\n\u001B[1;32m   6167\u001B[0m                     \u001B[0mkey\u001B[0m \u001B[0;34m=\u001B[0m \u001B[0mlist\u001B[0m\u001B[0;34m(\u001B[0m\u001B[0mkey\u001B[0m\u001B[0;34m)\u001B[0m\u001B[0;34m\u001B[0m\u001B[0;34m\u001B[0m\u001B[0m\n\u001B[0;32m-> 6168\u001B[0;31m                 \u001B[0;32mraise\u001B[0m \u001B[0mKeyError\u001B[0m\u001B[0;34m(\u001B[0m\u001B[0;34mf\"None of [{key}] are in the [{axis_name}]\"\u001B[0m\u001B[0;34m)\u001B[0m\u001B[0;34m\u001B[0m\u001B[0;34m\u001B[0m\u001B[0m\n\u001B[0m\u001B[1;32m   6169\u001B[0m \u001B[0;34m\u001B[0m\u001B[0m\n\u001B[1;32m   6170\u001B[0m             \u001B[0mnot_found\u001B[0m \u001B[0;34m=\u001B[0m \u001B[0mlist\u001B[0m\u001B[0;34m(\u001B[0m\u001B[0mensure_index\u001B[0m\u001B[0;34m(\u001B[0m\u001B[0mkey\u001B[0m\u001B[0;34m)\u001B[0m\u001B[0;34m[\u001B[0m\u001B[0mmissing_mask\u001B[0m\u001B[0;34m.\u001B[0m\u001B[0mnonzero\u001B[0m\u001B[0;34m(\u001B[0m\u001B[0;34m)\u001B[0m\u001B[0;34m[\u001B[0m\u001B[0;36m0\u001B[0m\u001B[0;34m]\u001B[0m\u001B[0;34m]\u001B[0m\u001B[0;34m.\u001B[0m\u001B[0munique\u001B[0m\u001B[0;34m(\u001B[0m\u001B[0;34m)\u001B[0m\u001B[0;34m)\u001B[0m\u001B[0;34m\u001B[0m\u001B[0;34m\u001B[0m\u001B[0m\n",
      "\u001B[0;31mKeyError\u001B[0m: \"None of [Index(['range_row_num_in_k', 'rewrite', 'execution_time_in_ms'], dtype='object')] are in the [columns]\""
     ]
    }
   ],
   "source": [
    "test_path = 'results/TEST-REWRITE-4'\n",
    "all_data = []\n",
    "for root, dirs, files in os.walk(test_path):\n",
    "    for filename in files:\n",
    "        if filename == \"config.json\":\n",
    "            with open(os.path.join(root, filename), 'r') as f:\n",
    "                text = f.read()\n",
    "                data = json.loads(text)\n",
    "                root = root[:root.find('kRANGE')]\n",
    "                root = root[root.rfind('/')+1:]\n",
    "                data['range_row_num_in_k'] = int(root)\n",
    "                data['rewrite'] = data['enable_logical_rewriting']\n",
    "                all_data.append(data)\n",
    "all_df = pd.DataFrame(all_data)\n",
    "df = all_df[['range_row_num_in_k', 'rewrite', 'execution_time_in_ms']].groupby(['range_row_num_in_k', 'rewrite']).mean().reset_index()\n",
    "plot = sns.lineplot(data=df, x='range_row_num_in_k', y='execution_time_in_ms', hue='rewrite')\n",
    "plot.xaxis.set_major_locator(FixedLocator([200,400,600,800,1000]))\n",
    "plt.title('SUM(A1, A$1:A$200K)')\n",
    "plot.get_figure().savefig('plots/rewrite/3.pdf', dpi=300)\n",
    "plt.clf()"
   ]
  },
  {
   "cell_type": "markdown",
   "metadata": {},
   "source": [
    "## Experiment 3\n",
    "\n",
    "Workload: Weather data from RQ1\n",
    "\n",
    "Experiment 3.1: RR, Different directions for computing distributive aggregate functions, varying the number of columns in the range SUM(A1:A7), SUM(A1:B7), …, SUM(A1:E7)\n"
   ]
  },
  {
   "cell_type": "code",
   "execution_count": null,
   "metadata": {},
   "outputs": [],
   "source": [
    "test_path = 'results/TEST-DIRECTION'\n",
    "all_data = []\n",
    "for root, dirs, files in os.walk(test_path):\n",
    "    for filename in files:\n",
    "        if filename == \"config.json\":\n",
    "            with open(os.path.join(root, filename), 'r') as f:\n",
    "                text = f.read()\n",
    "                data = json.loads(text)\n",
    "                data['col_num'] = int(root[root.find('DIRECTION')+2])\n",
    "                all_data.append(data)\n",
    "all_df = pd.DataFrame(all_data)\n",
    "df = all_df[['col_num', 'along_row_first', 'execution_time_in_ms']].groupby(['col_num', 'along_row_first']).mean().reset_index()\n",
    "plot = sns.lineplot(data=df, x='col_num', y='execution_time_in_ms', hue='along_row_first')\n",
    "plot.xaxis.set_major_locator(FixedLocator([1,2,3,4,5]))\n",
    "plt.title('Compare Different Directions')\n",
    "plot.get_figure().savefig('plots/directions/1.pdf', dpi=300)\n",
    "plt.clf()"
   ]
  },
  {
   "cell_type": "markdown",
   "metadata": {},
   "source": [
    "## Experiment 4 \n",
    "\n",
    "Workload: Weather data (1M, 32 cores)\n",
    "\n",
    "### Experiment 4.1: \n",
    "\n",
    "MEDIAN(A1:B\\\\$1), vary the number of rows, report the execution time\n"
   ]
  },
  {
   "cell_type": "code",
   "execution_count": null,
   "metadata": {},
   "outputs": [],
   "source": [
    "test_path = 'results/TEST-COSTMODEL'\n",
    "all_data = []\n",
    "for root, dirs, files in os.walk(test_path):\n",
    "    for filename in files:\n",
    "        if filename == \"config.json\":\n",
    "            with open(os.path.join(root, filename), 'r') as f:\n",
    "                text = f.read()\n",
    "                data = json.loads(text)\n",
    "                data['row_num_in_k'] = data['row_num'] / 1000\n",
    "                all_data.append(data)\n",
    "all_df = pd.DataFrame(all_data)\n",
    "df = all_df[['row_num_in_k', 'cost_model', 'execution_time_in_ms']].groupby(['row_num_in_k', 'cost_model']).mean().reset_index()\n",
    "plot = sns.lineplot(data=df, x='row_num_in_k', y='execution_time_in_ms', hue='cost_model')\n",
    "plot.xaxis.set_major_locator(FixedLocator([200,400,600,800,1000]))\n",
    "plt.title('Compare Different Directions')\n",
    "plot.get_figure().savefig('plots/directions/execution_time.pdf', dpi=300)\n",
    "plt.clf()"
   ]
  },
  {
   "cell_type": "markdown",
   "metadata": {},
   "source": [
    "## Experiment 4.2: \n",
    "\n",
    "MEDIAN(A1:B\\\\$1), vary the number of rows, report the planning time"
   ]
  },
  {
   "cell_type": "code",
   "execution_count": null,
   "metadata": {},
   "outputs": [],
   "source": [
    "test_path = 'results/TEST-COSTMODEL'\n",
    "all_data = []\n",
    "for root, dirs, files in os.walk(test_path):\n",
    "    for filename in files:\n",
    "        if filename == \"config.json\":\n",
    "            with open(os.path.join(root, filename), 'r') as f:\n",
    "                text = f.read()\n",
    "                data = json.loads(text)\n",
    "                data['row_num_in_k'] = data['row_num'] / 1000\n",
    "                all_data.append(data)\n",
    "all_df = pd.DataFrame(all_data)\n",
    "df = all_df[['row_num_in_k', 'cost_model', 'planning_time_in_ms']].groupby(['row_num_in_k', 'cost_model']).mean().reset_index()\n",
    "plot = sns.lineplot(data=df, x='row_num_in_k', y='planning_time_in_ms', hue='cost_model')\n",
    "plot.xaxis.set_major_locator(FixedLocator([200,400,600,800,1000]))\n",
    "plt.title('Compare Different Cost Model')\n",
    "plot.get_figure().savefig('plots/costmodel/planning_time.pdf', dpi=300)\n",
    "plt.clf()"
   ]
  },
  {
   "cell_type": "markdown",
   "metadata": {},
   "source": [
    "## Experiment 5\n",
    "\n",
    "Workload: Weather data,\n",
    "  SUM(RR, FR), MAX(RR, FR), AVERAGE(RR, FR), SUMIF(RR, FR), MEDIAN(RR, FR)\n",
    "  \n",
    "  \n",
    "Baselines: FormS and Excel\n",
    "\n",
    "Experiment 5.1: vary the number of cores: 1, 2, 4, 8, 16; 10K rows\n"
   ]
  },
  {
   "cell_type": "code",
   "execution_count": null,
   "metadata": {},
   "outputs": [],
   "source": []
  }
 ],
 "metadata": {
  "kernelspec": {
   "display_name": "Python 3",
   "language": "python",
   "name": "python3"
  },
  "language_info": {
   "codemirror_mode": {
    "name": "ipython",
    "version": 3
   },
   "file_extension": ".py",
   "mimetype": "text/x-python",
   "name": "python",
   "nbconvert_exporter": "python",
   "pygments_lexer": "ipython3",
   "version": "3.8.3"
  }
 },
 "nbformat": 4,
 "nbformat_minor": 1
}